{
 "cells": [
  {
   "cell_type": "markdown",
   "metadata": {},
   "source": [
    "# Multiple Linear Regression in Statsmodels - Lab"
   ]
  },
  {
   "cell_type": "markdown",
   "metadata": {},
   "source": [
    "## Introduction\n",
    "In this lab, you'll practice fitting a multiple linear regression model on the Ames Housing dataset!"
   ]
  },
  {
   "cell_type": "markdown",
   "metadata": {},
   "source": [
    "## Objectives\n",
    "You will be able to:\n",
    "* Determine if it is necessary to perform normalization/standardization for a specific model or set of data\n",
    "* Use standardization/normalization on features of a dataset\n",
    "* Identify if it is necessary to perform log transformations on a set of features\n",
    "* Perform log transformations on different features of a dataset\n",
    "* Use statsmodels to fit a multiple linear regression model\n",
    "* Evaluate a linear regression model by using statistical performance metrics pertaining to overall model and specific parameters\n"
   ]
  },
  {
   "cell_type": "markdown",
   "metadata": {},
   "source": [
    "## The Ames Housing Data"
   ]
  },
  {
   "cell_type": "markdown",
   "metadata": {},
   "source": [
    "Using the specified continuous and categorical features, preprocess your data to prepare for modeling:\n",
    "* Split off and one hot encode the categorical features of interest\n",
    "* Log and scale the selected continuous features"
   ]
  },
  {
   "cell_type": "code",
   "execution_count": null,
   "metadata": {},
   "outputs": [],
   "source": [
    "import pandas as pd\n",
    "import numpy as np\n",
    "from sklearn.preprocessing import StandardScaler, OneHotEncoder\n",
    "\n",
    "ames = pd.read_csv('ames.csv')\n",
    "\n",
    "continuous = ['LotArea', '1stFlrSF', 'GrLivArea', 'SalePrice']\n",
    "categoricals = ['BldgType', 'KitchenQual', 'SaleType', 'MSZoning', 'Street', 'Neighborhood']"
   ]
  },
  {
   "cell_type": "markdown",
   "metadata": {},
   "source": [
    "## Continuous Features"
   ]
  },
  {
   "cell_type": "code",
   "execution_count": null,
   "metadata": {},
   "outputs": [],
   "source": [
    "# Log transform and normalize\n",
    "ames_cont = ames[continuous]\n",
    "\n",
    "# Log transform\n",
    "log_names = [f'{column}_log' for column in ames_cont.columns]\n",
    "\n",
    "ames_log = np.log(ames_cont)\n",
    "ames_log.columns = log_names\n",
    "\n",
    "ames_log\n",
    "\n",
    "# Other way to log transform\n",
    "#ames_log = ames[continuous].apply(lambda x: np.log(x))\n",
    "\n",
    "# Normalize (subtract mean and divide by std)\n",
    "def normalize(feature):\n",
    "    return (feature - feature.mean()) / feature.std()\n",
    "\n",
    "ames_log_norm = ames_log.apply(normalize)\n",
    "ames_log_norm\n",
    "\n",
    "# Other way to normalize using sklearn standard scalar \n",
    "#ss = StandardScaler\n",
    "\n",
    "#log_std = pd.DataFrame(ss.fit_transform(ames_log), columns = ames_log.columns)\n",
    "#log_std.head()"
   ]
  },
  {
   "cell_type": "markdown",
   "metadata": {},
   "source": [
    "## Categorical Features"
   ]
  },
  {
   "cell_type": "code",
   "execution_count": null,
   "metadata": {
    "scrolled": true
   },
   "outputs": [],
   "source": [
    "# One hot encode categoricals\n",
    "ames_cat = ames[categoricals]\n",
    "ames_ohe = pd.get_dummies(ames_cat, prefix=categoricals, drop_first=True)\n",
    "ames_ohe\n",
    "\n",
    "# Other way to ohe\n",
    "#ohe_method2 = OneHotEncoder(drop = 'first', sparse = False)\n",
    "#ohe_method2_df = pd.DataFrame(ohe_method2.fit_transform(ames[categoricals]), columns = ohe_method2.get_feature_names())\n",
    "\n",
    "#ohe_method2_df.head()"
   ]
  },
  {
   "cell_type": "code",
   "execution_count": null,
   "metadata": {},
   "outputs": [],
   "source": [
    "# sanity check for method2\n",
    "ames[categoricals].head()"
   ]
  },
  {
   "cell_type": "markdown",
   "metadata": {},
   "source": [
    "## Combine Categorical and Continuous Features"
   ]
  },
  {
   "cell_type": "code",
   "execution_count": null,
   "metadata": {},
   "outputs": [],
   "source": [
    "# combine features into a single dataframe called preprocessed\n",
    "preprocessed_ames = pd.concat([ames_log_norm, ames_ohe], axis =1)\n",
    "preprocessed_ames.head()"
   ]
  },
  {
   "cell_type": "markdown",
   "metadata": {},
   "source": [
    "## Run a linear model with SalePrice as the target variable in statsmodels"
   ]
  },
  {
   "cell_type": "code",
   "execution_count": null,
   "metadata": {},
   "outputs": [],
   "source": [
    "# Your code here\n",
    "import statsmodels.api as sm\n",
    "from statsmodels.formula.api import ols"
   ]
  },
  {
   "cell_type": "code",
   "execution_count": null,
   "metadata": {},
   "outputs": [],
   "source": [
    "Y = preprocessed_ames['SalePrice_log']\n",
    "X = preprocessed_ames.drop('SalePrice_log', axis = 1)\n",
    "X_int = sm.add_constant(X)\n",
    "\n",
    "model = sm.OLS(Y, X_int).fit()\n",
    "model.summary()"
   ]
  },
  {
   "cell_type": "markdown",
   "metadata": {},
   "source": [
    "## Run the same model in scikit-learn"
   ]
  },
  {
   "cell_type": "code",
   "execution_count": null,
   "metadata": {},
   "outputs": [],
   "source": [
    "# Your code here - Check that the coefficients and intercept are the same as those from Statsmodels\n",
    "from sklearn.linear_model import LinearRegression\n",
    "linreg = LinearRegression()\n",
    "linreg.fit(X,Y)\n",
    "#linreg.score(X,Y)  R-squared"
   ]
  },
  {
   "cell_type": "code",
   "execution_count": null,
   "metadata": {},
   "outputs": [],
   "source": [
    "LinearRegression()"
   ]
  },
  {
   "cell_type": "code",
   "execution_count": null,
   "metadata": {},
   "outputs": [],
   "source": [
    "linreg.coef_"
   ]
  },
  {
   "cell_type": "code",
   "execution_count": null,
   "metadata": {},
   "outputs": [],
   "source": [
    "linreg.intercept_"
   ]
  },
  {
   "cell_type": "markdown",
   "metadata": {},
   "source": [
    "## Predict the house price given the following characteristics (before manipulation!!)\n",
    "\n",
    "Make sure to transform your variables as needed!\n",
    "\n",
    "- LotArea: 14977\n",
    "- 1stFlrSF: 1976\n",
    "- GrLivArea: 1976\n",
    "- BldgType: 1Fam\n",
    "- KitchenQual: Gd\n",
    "- SaleType: New\n",
    "- MSZoning: RL\n",
    "- Street: Pave\n",
    "- Neighborhood: NridgHt"
   ]
  },
  {
   "cell_type": "code",
   "execution_count": null,
   "metadata": {},
   "outputs": [],
   "source": [
    "# Your code here - predict the house price given the following characteristics\n",
    "\n",
    "continuous.remove('SalePrice')\n",
    "\n",
    "used_cols = [*continuous, *categoricals]\n",
    "used_cols"
   ]
  },
  {
   "cell_type": "code",
   "execution_count": null,
   "metadata": {},
   "outputs": [],
   "source": [
    "# create empty dataframe for the new row of sample data\n",
    "new_row = pd.DataFrame(columns=used_cols)"
   ]
  },
  {
   "cell_type": "code",
   "execution_count": null,
   "metadata": {},
   "outputs": [],
   "source": [
    "# add details provided to the empty dataframe\n",
    "\n",
    "new_row = new_row.append({\"LotArea\": 14977,\n",
    "                         '1stFlrSF': 1976,\n",
    "                         'GrLivArea': 1976,\n",
    "                         'BldgType': '1Fam',\n",
    "                         'KitchenQual': 'Gd',\n",
    "                         'SaleType': 'New',\n",
    "                         'MSZoning': 'RL',\n",
    "                         'Street': 'Pave',\n",
    "                         'Neighborhood': 'NridgHt'},\n",
    "                          ignore_index=True)\n",
    "new_row"
   ]
  },
  {
   "cell_type": "code",
   "execution_count": null,
   "metadata": {},
   "outputs": [],
   "source": [
    "# continuous columns in df\n",
    "new_row_cont = new_row[continuous]\n",
    "\n",
    "# log features\n",
    "log_names = [f'{column}_log' for column in new_row_cont.columns]\n",
    "\n",
    "new_row_log = np.log(new_row_cont.astype(float))  #won't work unless float\n",
    "new_row_log.columns = log_names\n",
    "\n",
    "# normalize\n",
    "for col in continuous:\n",
    "    #normalize using mean and std from overall dataset\n",
    "    new_row_log[f'{col}_log'] = (new_row_log[f'{col}_log'] - ames[col].mean()) / ames[col].std()\n",
    "new_row_log    \n",
    "\n"
   ]
  },
  {
   "cell_type": "code",
   "execution_count": null,
   "metadata": {},
   "outputs": [],
   "source": [
    "# categoricals in df\n",
    "new_row_cat = new_row[categoricals]\n",
    "\n",
    "new_row_ohe = pd.DataFrame(columns = ames_ohe.columns)\n",
    "\n",
    "# using complicated for loops to ohe the new row\n",
    "ohe_dict = {}\n",
    "for col_type in new_row_cat.columns:\n",
    "    col_list = [c for c in new_row_ohe.columns.to_list() if col_type in c]\n",
    "    for x in col_list:\n",
    "        if new_row_cat[col_type][0] in x:\n",
    "            ohe_dict[x] = 1\n",
    "        else:\n",
    "            ohe_dict[x] = 0\n",
    "            \n",
    "# putting the results in a dataframe\n",
    "new_row_ohe = new_row_ohe.append(ohe_dict, ignore_index=True)\n",
    "new_row_ohe\n"
   ]
  },
  {
   "cell_type": "code",
   "execution_count": null,
   "metadata": {},
   "outputs": [],
   "source": [
    "new_row_processed = pd.concat([new_row_log, new_row_ohe], axis = 1)\n",
    "new_row_processed"
   ]
  },
  {
   "cell_type": "code",
   "execution_count": null,
   "metadata": {},
   "outputs": [],
   "source": [
    "# Regression model\n",
    "\n",
    "new_row_pred_log = linreg.predict(new_row_processed)\n",
    "new_row_pred_log"
   ]
  },
  {
   "cell_type": "code",
   "execution_count": null,
   "metadata": {},
   "outputs": [],
   "source": [
    "# Prediction needs to be scaled and exponentiated\n",
    "np.exp(new_row_pred_log) * ames['SalePrice'].std() + ames['SalePrice'].mean()"
   ]
  },
  {
   "cell_type": "code",
   "execution_count": null,
   "metadata": {},
   "outputs": [],
   "source": []
  },
  {
   "cell_type": "code",
   "execution_count": null,
   "metadata": {},
   "outputs": [],
   "source": [
    "# Other way"
   ]
  },
  {
   "cell_type": "code",
   "execution_count": null,
   "metadata": {},
   "outputs": [],
   "source": [
    "# Make 2 df: 1 with continuous features, 1 with categorical features. Then perform transformations on them\n"
   ]
  },
  {
   "cell_type": "code",
   "execution_count": null,
   "metadata": {},
   "outputs": [],
   "source": [
    "continuous  # will build df with log transform and standardize continuous features"
   ]
  },
  {
   "cell_type": "code",
   "execution_count": null,
   "metadata": {},
   "outputs": [],
   "source": [
    "cont_test = pd.DataFrame({'LotArea': [14977],\n",
    "                         '1stFlrSF': [1976],\n",
    "                         'GrLivArea': [1976],\n",
    "                         'SalePrice': 0.1})\n",
    "cont_test"
   ]
  },
  {
   "cell_type": "code",
   "execution_count": null,
   "metadata": {},
   "outputs": [],
   "source": [
    "log_test = cont_test.apply(lambda x: np.log(x))\n",
    "log_test"
   ]
  },
  {
   "cell_type": "code",
   "execution_count": null,
   "metadata": {},
   "outputs": [],
   "source": [
    "ss = StandardScaler\n",
    "cont_test = pd.DataFrame(ss.transform(log_test), columns = log_test.columns)"
   ]
  },
  {
   "cell_type": "code",
   "execution_count": null,
   "metadata": {},
   "outputs": [],
   "source": [
    "cont_test.drop(columns = 'SalePrice', inplace = True)"
   ]
  },
  {
   "cell_type": "code",
   "execution_count": null,
   "metadata": {},
   "outputs": [],
   "source": []
  },
  {
   "cell_type": "code",
   "execution_count": null,
   "metadata": {},
   "outputs": [],
   "source": [
    "# will build df with categoricals\n",
    "cat_df = pd.DataFrame({'BldgType': '1Fam',\n",
    "                      'KitchenQual': 'Gd',\n",
    "                      'SaleType': ['New'],\n",
    "                      'MSZoning': ['RL'],\n",
    "                      'Street': ['Pave'],\n",
    "                      'Neighborhood': 'NridgHt'})\n",
    "cat_df"
   ]
  },
  {
   "cell_type": "code",
   "execution_count": null,
   "metadata": {},
   "outputs": [],
   "source": [
    "cat_ohe = pd.DataFrame(ohe_method2.transform(cat_df), columns = ohe_method2.get_feature_names())\n",
    "cat_ohe"
   ]
  },
  {
   "cell_type": "code",
   "execution_count": null,
   "metadata": {},
   "outputs": [],
   "source": [
    "test_df = cont_test.join(cat_ohe)\n",
    "test_df.head()"
   ]
  },
  {
   "cell_type": "code",
   "execution_count": null,
   "metadata": {},
   "outputs": [],
   "source": [
    "X.shape"
   ]
  },
  {
   "cell_type": "code",
   "execution_count": null,
   "metadata": {},
   "outputs": [],
   "source": [
    "#Prediction\n",
    "pred = linreg.predict(test_df)"
   ]
  },
  {
   "cell_type": "code",
   "execution_count": null,
   "metadata": {},
   "outputs": [],
   "source": [
    "# convert std pred to sale price\n",
    "np.exp((pred * ames_log['SalePrice'].std()) + ames_log['SalePrice'].mean())"
   ]
  },
  {
   "cell_type": "markdown",
   "metadata": {},
   "source": [
    "## Summary\n",
    "Congratulations! You pre-processed the Ames Housing data using scaling and standardization. You also fitted your first multiple linear regression model on the Ames Housing data using statsmodels and scikit-learn!"
   ]
  }
 ],
 "metadata": {
  "kernelspec": {
   "display_name": "Python [conda env:learn-env] *",
   "language": "python",
   "name": "conda-env-learn-env-py"
  },
  "language_info": {
   "codemirror_mode": {
    "name": "ipython",
    "version": 3
   },
   "file_extension": ".py",
   "mimetype": "text/x-python",
   "name": "python",
   "nbconvert_exporter": "python",
   "pygments_lexer": "ipython3",
   "version": "3.6.9"
  }
 },
 "nbformat": 4,
 "nbformat_minor": 2
}
